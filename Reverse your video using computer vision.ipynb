{
 "cells": [
  {
   "cell_type": "markdown",
   "metadata": {},
   "source": [
    "## Overview\n",
    "\n",
    "So this time in this article we will be working on to build an application that will help us to reverse any video along with that we can also see the result in the real time or also save the reversed video in our local system with defined quality of the video i.e. 360p/720p and to proceed with the whole development process we will be going with computer vision tech and for that using the cv2 library only. "
   ]
  },
  {
   "cell_type": "markdown",
   "metadata": {},
   "source": [
    "## Steps involved in the process are:\n",
    "\n",
    "1. Importing the cv2 library: This is pretty much straightforward job to do so we will simply import the cv2 i.e. Python's computer vision library.\n",
    "\n",
    "\n",
    "2. Reading/Capturing the video: Then we will read the video that we want to reverse\n",
    "\n",
    "\n",
    "3. Working with frames: In this section we will be working with frames of the video like to get the processing speed i.e. Frames per second and count of the frame. \n",
    "\n",
    "\n",
    "4. Height and width: Here we will simply extract the height and width of the video that we have read so that we can use it in further rescaling part.\n",
    "\n",
    "\n",
    "5. Rescaling and setting type of output video: Now in this part we will simply rescale our video to certain size and set the type of the video that we will be saving at the end.\n",
    "\n",
    "\n",
    "6. Loop everything in: At the last we will put everything in the loop with some conditions related to frames and we are all set to reverse our video."
   ]
  },
  {
   "cell_type": "markdown",
   "metadata": {},
   "source": [
    "## Import the library "
   ]
  },
  {
   "cell_type": "markdown",
   "metadata": {},
   "source": [
    "So here we are only importing the computer vision library i.e. cv2."
   ]
  },
  {
   "cell_type": "code",
   "execution_count": 1,
   "metadata": {},
   "outputs": [],
   "source": [
    "import cv2"
   ]
  },
  {
   "cell_type": "markdown",
   "metadata": {},
   "source": [
    "## Reading the instance of the video"
   ]
  },
  {
   "cell_type": "markdown",
   "metadata": {},
   "source": [
    "So here comes the step when we will be reading our video. So first let's see the code and then we will discuss it."
   ]
  },
  {
   "cell_type": "code",
   "execution_count": 2,
   "metadata": {},
   "outputs": [],
   "source": [
    "cap = cv2.VideoCapture('sample2.mp4')"
   ]
  },
  {
   "cell_type": "markdown",
   "metadata": {},
   "source": [
    "So basically we are using the cv2's Video Capture function to read the video for that we are simply passing the path of the video in the parameter enclosed within inverted commas, just keep one thing in mind, if the video is in the same folder then one don't need to use the full path instead just use the name of the video with it's extension."
   ]
  },
  {
   "cell_type": "markdown",
   "metadata": {},
   "source": [
    "## Working with frames"
   ]
  },
  {
   "cell_type": "markdown",
   "metadata": {},
   "source": [
    "So in this particular section we will be working to get the total number of the frames that our video holds."
   ]
  },
  {
   "cell_type": "code",
   "execution_count": 3,
   "metadata": {},
   "outputs": [],
   "source": [
    "frames = cap.get(cv2.CAP_PROP_FRAME_COUNT)"
   ]
  },
  {
   "cell_type": "markdown",
   "metadata": {},
   "source": [
    "So here one can easily decode the functionality while breaking down the name of the function:\n",
    "* CAP: Capture\n",
    "* PROP: Property\n",
    "* FRAME_COUNT: Total number of frame count"
   ]
  },
  {
   "cell_type": "markdown",
   "metadata": {},
   "source": [
    "But are we using the most efficient way to get the total number of frames per second? \n",
    "Simple answer is \"YES!\"\n",
    "\n",
    "Reason: If we go for counting the frames using loop and incrementing the counter each time then it will be exhausted process both for the developer and also for CPU because of the processing time but if we use the built in method then we can get away with both the problems."
   ]
  },
  {
   "cell_type": "markdown",
   "metadata": {},
   "source": [
    "So just before we got the access of total number of frames of the video now we will try to get the frames per second (FPS)."
   ]
  },
  {
   "cell_type": "code",
   "execution_count": 4,
   "metadata": {},
   "outputs": [],
   "source": [
    "fps = cap.get(cv2.CAP_PROP_FPS)"
   ]
  },
  {
   "cell_type": "markdown",
   "metadata": {},
   "source": [
    "If you have got the concept of counting the total number of frames then this will be very much easy to understand as if we breakdown the built in function of counting FPS then we can see below abbreviation:\n",
    "* CAP: Capture\n",
    "* PROP: Property\n",
    "* FPS: Frames per second"
   ]
  },
  {
   "cell_type": "markdown",
   "metadata": {},
   "source": [
    "## Get height and width of video"
   ]
  },
  {
   "cell_type": "markdown",
   "metadata": {},
   "source": [
    "Here we will be calculating the height and width of the video so that we can rescale the output video based on our preference."
   ]
  },
  {
   "cell_type": "code",
   "execution_count": 5,
   "metadata": {},
   "outputs": [],
   "source": [
    "height = cap.get(cv2.CAP_PROP_FRAME_HEIGHT)\n",
    "width = cap.get(cv2.CAP_PROP_FRAME_WIDTH)"
   ]
  },
  {
   "cell_type": "markdown",
   "metadata": {},
   "source": [
    "* Height: The built in function we used here is, CAP_PROP_FRAME_HEIGHT where we can see that FRAME_HEIGHT will get the height of each frame i.e. for the complete video.\n",
    "* Width: Similarly for finding the width of the video FRAME_WIDTH will be used."
   ]
  },
  {
   "cell_type": "markdown",
   "metadata": {},
   "source": [
    "## Initiating the Output writer for Video"
   ]
  },
  {
   "cell_type": "markdown",
   "metadata": {},
   "source": [
    "* Now we will first use the Video Writer fourcc method to give the 4 character code to the output video in order to compress the frames according to our need. Here we are using the \"MJPG\" character code to compress the frames it is also known as video codec and we have variety of video codec that we can pass in the funnction as a parameter if we want to se the list of parameter then that is available in FOURCC page.\n",
    "> Note: We are using the MJPG character code which means motion-jpeg codec.\n",
    "\n",
    "* Then we are simply rescaling the output video to their half proportion i.e. reduced to 50% for both height and width."
   ]
  },
  {
   "cell_type": "code",
   "execution_count": 6,
   "metadata": {},
   "outputs": [],
   "source": [
    "fourcc = cv2.VideoWriter_fourcc(*'MJPG')\n",
    "out = cv2.VideoWriter('reversed2.avi', fourcc,fps ,(int(width*0.5), int(height*0.5)))"
   ]
  },
  {
   "cell_type": "markdown",
   "metadata": {},
   "source": [
    "### Let's print some results\n",
    "\n",
    "1. Total number of frames \n",
    "2. Frames per second during processing."
   ]
  },
  {
   "cell_type": "code",
   "execution_count": 7,
   "metadata": {},
   "outputs": [
    {
     "name": "stdout",
     "output_type": "stream",
     "text": [
      "No. of frames are : 488.0\n",
      "FPS is :25.0\n"
     ]
    }
   ],
   "source": [
    "print(\"No. of frames are : {}\".format(frames))\n",
    "print(\"FPS is :{}\".format(fps))"
   ]
  },
  {
   "cell_type": "markdown",
   "metadata": {},
   "source": [
    "Here we will retireve the index i.e. position of the last frame of our video"
   ]
  },
  {
   "cell_type": "code",
   "execution_count": 8,
   "metadata": {},
   "outputs": [],
   "source": [
    "frame_index = frames-1"
   ]
  },
  {
   "cell_type": "markdown",
   "metadata": {},
   "source": [
    "## Final step: Let's put everything in loop to get some results"
   ]
  },
  {
   "cell_type": "code",
   "execution_count": 9,
   "metadata": {
    "scrolled": true
   },
   "outputs": [
    {
     "name": "stdout",
     "output_type": "stream",
     "text": [
      "400.0\n",
      "300.0\n",
      "200.0\n",
      "100.0\n",
      "0.0\n"
     ]
    }
   ],
   "source": [
    "if(cap.isOpened()):\n",
    "\n",
    "    while(frame_index!=0):\n",
    "\n",
    "        cap.set(cv2.CAP_PROP_POS_FRAMES, frame_index)\n",
    "        ret, frame = cap.read()\n",
    "\n",
    "        frame = cv2.resize(frame,(int(width*0.5), int(height*0.5)))\n",
    "\n",
    "        out.write(frame)\n",
    "\n",
    "        frame_index = frame_index-1\n",
    "\n",
    "        if(frame_index%100==0):\n",
    "            print(frame_index)\n",
    "\n",
    "out.release()\n",
    "cap.release()\n",
    "cv2.destroyAllWindows()"
   ]
  },
  {
   "cell_type": "markdown",
   "metadata": {},
   "source": [
    "Code breakdown:\n",
    "\n",
    "1. Let's first check that the instance of video is ready? with the help of isOpened() function. IF yes,\n",
    "2. Then we will read the frames till the end of the video using the frame index\n",
    "3. Now as we want to get the reverse video so for that reason we will initialise the position of current frame to the last frame.\n",
    "4. Optional: Now if we want to see the live reverse video we can go for, cv2.imshow('winname', frame), but,\n",
    "5. If we want to download (write) the video in our local system then we are gonna use write method and after each step we will simply decrease the frame index.\n",
    "6. The final step will be to print the frame value (this is just for checking the progress) and after that releasing the instances and destroying the window."
   ]
  },
  {
   "cell_type": "markdown",
   "metadata": {},
   "source": [
    "## Conclusion\n",
    "\n",
    "1. The very first takeaway from this article is that we learnd how we can work with frames when it comes to videos both locally and real-time.\n",
    "2. We also learnt the most optimise way of getting the frames of video and its processing time using the in-built function.\n",
    "3. Then along with writing the video after pre-processing we also noticed that how a simple twitch and turn can give us the correct output (here reverse video)"
   ]
  },
  {
   "cell_type": "markdown",
   "metadata": {},
   "source": [
    "Vide link: https://youtu.be/9HRjopTKNC8"
   ]
  }
 ],
 "metadata": {
  "kernelspec": {
   "display_name": "Python 3",
   "language": "python",
   "name": "python3"
  },
  "language_info": {
   "codemirror_mode": {
    "name": "ipython",
    "version": 3
   },
   "file_extension": ".py",
   "mimetype": "text/x-python",
   "name": "python",
   "nbconvert_exporter": "python",
   "pygments_lexer": "ipython3",
   "version": "3.8.5"
  },
  "varInspector": {
   "cols": {
    "lenName": 16,
    "lenType": 16,
    "lenVar": 40
   },
   "kernels_config": {
    "python": {
     "delete_cmd_postfix": "",
     "delete_cmd_prefix": "del ",
     "library": "var_list.py",
     "varRefreshCmd": "print(var_dic_list())"
    },
    "r": {
     "delete_cmd_postfix": ") ",
     "delete_cmd_prefix": "rm(",
     "library": "var_list.r",
     "varRefreshCmd": "cat(var_dic_list()) "
    }
   },
   "types_to_exclude": [
    "module",
    "function",
    "builtin_function_or_method",
    "instance",
    "_Feature"
   ],
   "window_display": false
  }
 },
 "nbformat": 4,
 "nbformat_minor": 4
}
